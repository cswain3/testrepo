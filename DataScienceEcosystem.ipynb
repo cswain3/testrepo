{
 "cells": [
  {
   "cell_type": "markdown",
   "id": "8daab859-f616-4010-9d35-ada1b21a2ba7",
   "metadata": {},
   "source": [
    "# Data Science Tools and Ecosystem"
   ]
  },
  {
   "cell_type": "markdown",
   "id": "21b6456f-60d5-4958-b029-ef4a15280ef3",
   "metadata": {},
   "source": [
    "In this notebook we will go through some examples of Data Science Tools and Ecosystem."
   ]
  },
  {
   "cell_type": "markdown",
   "id": "73db8eb5-135b-456d-a5b9-e566a077a395",
   "metadata": {},
   "source": [
    "Here is a list of some popular data science languages\n",
    "\n",
    "---\n",
    "\n",
    "1. Python\n",
    "2. R\n",
    "3. SQL\n",
    "4. Julia\n",
    "5. Scala\n",
    "6. Java\n",
    "7. Javascript"
   ]
  },
  {
   "cell_type": "markdown",
   "id": "d5b9b043-55b0-48d6-a48a-52d6a8017820",
   "metadata": {},
   "source": [
    "Here is a list of some of the commonly used data science Libraries\n",
    "\n",
    "---\n",
    "\n",
    "1. NumPy\n",
    "2. SciPy\n",
    "3. Pandas\n",
    "4. Matplotlib\n",
    "5. Keras\n",
    "6. PyTorch\n",
    "7. Scrapy"
   ]
  },
  {
   "cell_type": "markdown",
   "id": "8d2d7893-7dcb-41bc-9bd0-035aaf93aa35",
   "metadata": {},
   "source": [
    "| Data Science Tools       | \n",
    "| ---------------------------- |\n",
    "| RStudio | \n",
    "| TensorFlow | \n",
    "| Apache Spark | "
   ]
  },
  {
   "cell_type": "markdown",
   "id": "2865c097-d0d7-4dfe-99fe-15524a72a990",
   "metadata": {},
   "source": [
    "In next cell we will learn a simple mathematical operation. If you run the following code, it will give you the result like 2*10 = 2 and so on."
   ]
  },
  {
   "cell_type": "code",
   "execution_count": 3,
   "id": "c6a0c274-0e7d-4839-97bf-35b30bfba7d5",
   "metadata": {},
   "outputs": [
    {
     "data": {
      "text/plain": [
       "20"
      ]
     },
     "execution_count": 3,
     "metadata": {},
     "output_type": "execute_result"
    }
   ],
   "source": [
    "2*10"
   ]
  },
  {
   "cell_type": "code",
   "execution_count": 4,
   "id": "fe903f25-3400-460b-9680-e7753a192bfe",
   "metadata": {},
   "outputs": [
    {
     "data": {
      "text/plain": [
       "12"
      ]
     },
     "execution_count": 4,
     "metadata": {},
     "output_type": "execute_result"
    }
   ],
   "source": [
    "5 + 7"
   ]
  },
  {
   "cell_type": "markdown",
   "id": "8ec3a9a0-e590-4560-b8a8-784965b1706a",
   "metadata": {},
   "source": [
    "We have learnt how to multiply. Now we will add numbers to the result of multiplication. Run below code to get 2*2+2+3=9."
   ]
  },
  {
   "cell_type": "code",
   "execution_count": 5,
   "id": "940a8412-e3a9-4eeb-8e3b-567a940b2ec9",
   "metadata": {},
   "outputs": [
    {
     "data": {
      "text/plain": [
       "9"
      ]
     },
     "execution_count": 5,
     "metadata": {},
     "output_type": "execute_result"
    }
   ],
   "source": [
    "2*2 + 2 + 3"
   ]
  },
  {
   "cell_type": "markdown",
   "id": "413c0511-9ac3-46d8-8c1a-6f8e3103a0c8",
   "metadata": {},
   "source": [
    "Let’s convert minutes to hours – dividing by 60. Run below code to convert 200 minutes to Hours."
   ]
  },
  {
   "cell_type": "code",
   "execution_count": 7,
   "id": "949f5bf0-98df-4b58-93f0-01bc37366356",
   "metadata": {},
   "outputs": [
    {
     "data": {
      "text/plain": [
       "3.3333333333333335"
      ]
     },
     "execution_count": 7,
     "metadata": {},
     "output_type": "execute_result"
    }
   ],
   "source": [
    "200/60"
   ]
  },
  {
   "cell_type": "markdown",
   "id": "9301e21f-33df-465c-9cdc-706fc63d9b3c",
   "metadata": {},
   "source": [
    "**Here is a list of objectives of this exercise**\n",
    "\n",
    "---\n",
    "\n",
    "* To have understanding of data science tools and languages\n",
    "* To learn the tricks of writing simple codes\n",
    "* To publish the code in GitHub"
   ]
  },
  {
   "cell_type": "markdown",
   "id": "33710153-79e6-42b5-8606-3c7cec2ea237",
   "metadata": {},
   "source": [
    "## Author\n",
    "Chittaranjan Swain"
   ]
  },
  {
   "cell_type": "code",
   "execution_count": null,
   "id": "68610a86-de20-41c2-8fe0-4ba67d2b9dae",
   "metadata": {},
   "outputs": [],
   "source": []
  }
 ],
 "metadata": {
  "kernelspec": {
   "display_name": "Python",
   "language": "python",
   "name": "conda-env-python-py"
  },
  "language_info": {
   "codemirror_mode": {
    "name": "ipython",
    "version": 3
   },
   "file_extension": ".py",
   "mimetype": "text/x-python",
   "name": "python",
   "nbconvert_exporter": "python",
   "pygments_lexer": "ipython3",
   "version": "3.7.12"
  }
 },
 "nbformat": 4,
 "nbformat_minor": 5
}
